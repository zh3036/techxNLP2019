{
  "nbformat": 4,
  "nbformat_minor": 0,
  "metadata": {
    "colab": {
      "name": "nlp101_0720_assignment0.5.ipynb",
      "version": "0.3.2",
      "provenance": [],
      "collapsed_sections": [],
      "include_colab_link": true
    },
    "kernelspec": {
      "name": "python3",
      "display_name": "Python 3"
    }
  },
  "cells": [
    {
      "cell_type": "markdown",
      "metadata": {
        "id": "view-in-github",
        "colab_type": "text"
      },
      "source": [
        "<a href=\"https://colab.research.google.com/github/zh3036/techxNLP2019/blob/master/nlp101_0720_assignment0_5.ipynb\" target=\"_parent\"><img src=\"https://colab.research.google.com/assets/colab-badge.svg\" alt=\"Open In Colab\"/></a>"
      ]
    },
    {
      "cell_type": "code",
      "metadata": {
        "id": "_gjtY_BOauUL",
        "colab_type": "code",
        "colab": {}
      },
      "source": [
        "\n",
        "%matplotlib inline"
      ],
      "execution_count": 0,
      "outputs": []
    },
    {
      "cell_type": "code",
      "metadata": {
        "id": "M-LDdh17aw_C",
        "colab_type": "code",
        "colab": {}
      },
      "source": [
        "import matplotlib.pyplot as plt\n",
        "from matplotlib.colors import ListedColormap  \n",
        "from numpy import *\n",
        "import numpy as np"
      ],
      "execution_count": 0,
      "outputs": []
    },
    {
      "cell_type": "code",
      "metadata": {
        "id": "ZsknqGAdaylp",
        "colab_type": "code",
        "colab": {}
      },
      "source": [
        "from sklearn.model_selection import train_test_split"
      ],
      "execution_count": 0,
      "outputs": []
    },
    {
      "cell_type": "code",
      "metadata": {
        "id": "nZWtF3Fca18X",
        "colab_type": "code",
        "colab": {}
      },
      "source": [
        "x1=np.arange(10,40)\n",
        "y1=np.arange(10,40)\n",
        "x1 = x1.reshape(-1,1)\n",
        "y1 = y1.reshape(-1,1)"
      ],
      "execution_count": 0,
      "outputs": []
    },
    {
      "cell_type": "code",
      "metadata": {
        "id": "zFXTF4iLbDO8",
        "colab_type": "code",
        "colab": {}
      },
      "source": [
        "data1 = np.hstack([x1,y1])"
      ],
      "execution_count": 0,
      "outputs": []
    },
    {
      "cell_type": "code",
      "metadata": {
        "id": "B9tfVBLPbDv3",
        "colab_type": "code",
        "colab": {}
      },
      "source": [
        "x2=np.arange(60,90)\n",
        "y2=np.arange(60,90)\n",
        "x2 = x2.reshape(-1,1)\n",
        "y2 = y2.reshape(-1,1)"
      ],
      "execution_count": 0,
      "outputs": []
    },
    {
      "cell_type": "code",
      "metadata": {
        "id": "RdtxMP4tbSR-",
        "colab_type": "code",
        "colab": {
          "base_uri": "https://localhost:8080/",
          "height": 527
        },
        "outputId": "051088d7-b739-4679-cb93-92ad6d1fcd23"
      },
      "source": [
        "data2 = np.hstack([x2,y2])\n",
        "data2"
      ],
      "execution_count": 44,
      "outputs": [
        {
          "output_type": "execute_result",
          "data": {
            "text/plain": [
              "array([[60, 60],\n",
              "       [61, 61],\n",
              "       [62, 62],\n",
              "       [63, 63],\n",
              "       [64, 64],\n",
              "       [65, 65],\n",
              "       [66, 66],\n",
              "       [67, 67],\n",
              "       [68, 68],\n",
              "       [69, 69],\n",
              "       [70, 70],\n",
              "       [71, 71],\n",
              "       [72, 72],\n",
              "       [73, 73],\n",
              "       [74, 74],\n",
              "       [75, 75],\n",
              "       [76, 76],\n",
              "       [77, 77],\n",
              "       [78, 78],\n",
              "       [79, 79],\n",
              "       [80, 80],\n",
              "       [81, 81],\n",
              "       [82, 82],\n",
              "       [83, 83],\n",
              "       [84, 84],\n",
              "       [85, 85],\n",
              "       [86, 86],\n",
              "       [87, 87],\n",
              "       [88, 88],\n",
              "       [89, 89]])"
            ]
          },
          "metadata": {
            "tags": []
          },
          "execution_count": 44
        }
      ]
    },
    {
      "cell_type": "code",
      "metadata": {
        "id": "0tPempbKbozY",
        "colab_type": "code",
        "colab": {
          "base_uri": "https://localhost:8080/",
          "height": 286
        },
        "outputId": "c1fb8639-b865-4afe-e5d1-7e6ee0eeed84"
      },
      "source": [
        "\n",
        "plt.scatter(data1[:, 0], data1[:, 1])\n",
        "\n",
        "plt.scatter(data2[:, 0], data2[:, 1])"
      ],
      "execution_count": 45,
      "outputs": [
        {
          "output_type": "execute_result",
          "data": {
            "text/plain": [
              "<matplotlib.collections.PathCollection at 0x7f3a338c9eb8>"
            ]
          },
          "metadata": {
            "tags": []
          },
          "execution_count": 45
        },
        {
          "output_type": "display_data",
          "data": {
            "image/png": "[encoded data removed]",
            "text/plain": [
              "<Figure size 432x288 with 1 Axes>"
            ]
          },
          "metadata": {
            "tags": []
          }
        }
      ]
    },
    {
      "cell_type": "code",
      "metadata": {
        "id": "mdmA5ZCbb6t7",
        "colab_type": "code",
        "colab": {
          "base_uri": "https://localhost:8080/",
          "height": 34
        },
        "outputId": "2e254551-cfd9-4b3f-8ae3-e92d0cc3229d"
      },
      "source": [
        "\n",
        "data = np.vstack([data1,data2])\n",
        "print(len(data))\n",
        "\n",
        "label = list(ones(len(data1)))+list(0*ones(len(data2))) \n",
        "label = array(label)\n",
        "\n",
        "x_train,x_test,y_train,y_test = train_test_split(data,label,test_size=0.3,random_state=0)\n"
      ],
      "execution_count": 46,
      "outputs": [
        {
          "output_type": "stream",
          "text": [
            "60\n"
          ],
          "name": "stdout"
        }
      ]
    },
    {
      "cell_type": "code",
      "metadata": {
        "id": "M11daW8Pcxqh",
        "colab_type": "code",
        "colab": {}
      },
      "source": [
        "x_train = torch.from_numpy(x_train).type(torch.FloatTensor)\n",
        "x_test = torch.from_numpy(x_test).type(torch.FloatTensor)\n",
        "y_train = torch.from_numpy(y_train).type(torch.FloatTensor)\n",
        "y_test = torch.from_numpy(y_test).type(torch.FloatTensor)\n"
      ],
      "execution_count": 0,
      "outputs": []
    },
    {
      "cell_type": "markdown",
      "metadata": {
        "id": "iC4-rwyMdIB6",
        "colab_type": "text"
      },
      "source": [
        "这是一个比较简单的dataset，可以先make sure你的model work for this one\n",
        "\n",
        "------------\n",
        "这里比较重要的变量，应该也是你唯一需要用到的4个变量 就是 x_train, y_train, x_test, y_test \n",
        "\n",
        "你需要做的事情\n",
        "1. define 一个model（以及他的forward）\n",
        "2. define 一个loss function\n",
        "3. define 一个optimizer\n",
        "\n",
        "4. 随机初始化model的参数\n",
        "5.compute loss over 目前的xtrain和ytrain\n",
        "6. 求对参数的导数\n",
        "7. 改变参数\n",
        "8. 回到5 ，untill loss变的很小 accuracy 变得很高\n",
        "\n",
        "https://pytorch.org/tutorials/beginner/blitz/neural_networks_tutorial.html#sphx-glr-beginner-blitz-neural-networks-tutorial-py\n",
        "\n",
        "这个链接里的代码删减+修改几个数字之后应该可以完成本次的任务"
      ]
    },
    {
      "cell_type": "code",
      "metadata": {
        "id": "NKv44zRDdKPh",
        "colab_type": "code",
        "colab": {}
      },
      "source": [
        ""
      ],
      "execution_count": 0,
      "outputs": []
    },
    {
      "cell_type": "code",
      "metadata": {
        "id": "UlpwkCgMk5Zp",
        "colab_type": "code",
        "colab": {}
      },
      "source": [
        ""
      ],
      "execution_count": 0,
      "outputs": []
    }
  ]
}